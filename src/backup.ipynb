{
 "cells": [
  {
   "cell_type": "code",
   "execution_count": null,
   "metadata": {},
   "outputs": [
    {
     "data": {
      "text/plain": [
       "Fully Connected Feed Forward Neural Network\n",
       "> X = 500 x 784\n",
       "> y = 500 x 1\n",
       "> MLP of 1 Layers [\n",
       "\tLayer(label=Hidden-Layer-1, neurons=[\n",
       "\tNeuron(nin=784, activation=sigmoid, label=Hidden-Layer-1_N1)\n",
       "\tNeuron(nin=784, activation=sigmoid, label=Hidden-Layer-1_N2)\n",
       "\tNeuron(nin=784, activation=sigmoid, label=Hidden-Layer-1_N3)\n",
       "\tNeuron(nin=784, activation=sigmoid, label=Hidden-Layer-1_N4)\n",
       "\tNeuron(nin=784, activation=sigmoid, label=Hidden-Layer-1_N5)\n",
       "\tNeuron(nin=784, activation=sigmoid, label=Hidden-Layer-1_N6)\n",
       "\tNeuron(nin=784, activation=sigmoid, label=Hidden-Layer-1_N7)\n",
       "\tNeuron(nin=784, activation=sigmoid, label=Hidden-Layer-1_N8)\n",
       "\tNeuron(nin=784, activation=sigmoid, label=Hidden-Layer-1_N9)\n",
       "\tNeuron(nin=784, activation=sigmoid, label=Hidden-Layer-1_N10)])]"
      ]
     },
     "metadata": {},
     "output_type": "display_data"
    }
   ],
   "source": [
    "ffnn = FFNN(X, y_encoded, [784, 10], loss=\"mse\", active=[\"sigmoid\"], seed=69, weight=\"normal\", mean=0.5, variance=1)\n",
    "ffnn"
   ]
  },
  {
   "cell_type": "code",
   "execution_count": null,
   "metadata": {},
   "outputs": [
    {
     "name": "stderr",
     "output_type": "stream",
     "text": [
      "  0%|          | 0/1 [00:00<?, ?it/s]"
     ]
    },
    {
     "name": "stdout",
     "output_type": "stream",
     "text": [
      "Starting Epoch 0\n"
     ]
    },
    {
     "name": "stderr",
     "output_type": "stream",
     "text": [
      "100%|██████████| 1/1 [02:23<00:00, 143.03s/it]"
     ]
    },
    {
     "name": "stdout",
     "output_type": "stream",
     "text": [
      "Training Loss 0.9\n",
      "Validation Loss 0.9\n",
      "\n"
     ]
    },
    {
     "name": "stderr",
     "output_type": "stream",
     "text": [
      "\n"
     ]
    }
   ],
   "source": [
    "loss = ffnn.training(20, 0.005, 1, 3)"
   ]
  },
  {
   "cell_type": "code",
   "execution_count": null,
   "metadata": {},
   "outputs": [
    {
     "data": {
      "text/plain": [
       "Fully Connected Feed Forward Neural Network\n",
       "> X = 500 x 784\n",
       "> y = 500 x 1\n",
       "> MLP of 2 Layers [\n",
       "\tLayer(label=Hidden-Layer-1, neurons=[\n",
       "\tNeuron(nin=784, activation=relu, label=Hidden-Layer-1_N1)\n",
       "\tNeuron(nin=784, activation=relu, label=Hidden-Layer-1_N2)\n",
       "\tNeuron(nin=784, activation=relu, label=Hidden-Layer-1_N3)\n",
       "\tNeuron(nin=784, activation=relu, label=Hidden-Layer-1_N4)\n",
       "\tNeuron(nin=784, activation=relu, label=Hidden-Layer-1_N5)\n",
       "\tNeuron(nin=784, activation=relu, label=Hidden-Layer-1_N6)\n",
       "\tNeuron(nin=784, activation=relu, label=Hidden-Layer-1_N7)\n",
       "\tNeuron(nin=784, activation=relu, label=Hidden-Layer-1_N8)\n",
       "\tNeuron(nin=784, activation=relu, label=Hidden-Layer-1_N9)\n",
       "\tNeuron(nin=784, activation=relu, label=Hidden-Layer-1_N10)\n",
       "\tNeuron(nin=784, activation=relu, label=Hidden-Layer-1_N11)\n",
       "\tNeuron(nin=784, activation=relu, label=Hidden-Layer-1_N12)\n",
       "\tNeuron(nin=784, activation=relu, label=Hidden-Layer-1_N13)\n",
       "\tNeuron(nin=784, activation=relu, label=Hidden-Layer-1_N14)\n",
       "\tNeuron(nin=784, activation=relu, label=Hidden-Layer-1_N15)\n",
       "\tNeuron(nin=784, activation=relu, label=Hidden-Layer-1_N16)\n",
       "\tNeuron(nin=784, activation=relu, label=Hidden-Layer-1_N17)\n",
       "\tNeuron(nin=784, activation=relu, label=Hidden-Layer-1_N18)\n",
       "\tNeuron(nin=784, activation=relu, label=Hidden-Layer-1_N19)\n",
       "\tNeuron(nin=784, activation=relu, label=Hidden-Layer-1_N20)\n",
       "\tNeuron(nin=784, activation=relu, label=Hidden-Layer-1_N21)\n",
       "\tNeuron(nin=784, activation=relu, label=Hidden-Layer-1_N22)\n",
       "\tNeuron(nin=784, activation=relu, label=Hidden-Layer-1_N23)\n",
       "\tNeuron(nin=784, activation=relu, label=Hidden-Layer-1_N24)\n",
       "\tNeuron(nin=784, activation=relu, label=Hidden-Layer-1_N25)\n",
       "\tNeuron(nin=784, activation=relu, label=Hidden-Layer-1_N26)\n",
       "\tNeuron(nin=784, activation=relu, label=Hidden-Layer-1_N27)\n",
       "\tNeuron(nin=784, activation=relu, label=Hidden-Layer-1_N28)\n",
       "\tNeuron(nin=784, activation=relu, label=Hidden-Layer-1_N29)\n",
       "\tNeuron(nin=784, activation=relu, label=Hidden-Layer-1_N30)\n",
       "\tNeuron(nin=784, activation=relu, label=Hidden-Layer-1_N31)\n",
       "\tNeuron(nin=784, activation=relu, label=Hidden-Layer-1_N32)])\n",
       "\tLayer(label=Output-Layer, neurons=[\n",
       "\tNeuron(nin=32, activation=sigmoid, label=Output-Layer_N1)\n",
       "\tNeuron(nin=32, activation=sigmoid, label=Output-Layer_N2)\n",
       "\tNeuron(nin=32, activation=sigmoid, label=Output-Layer_N3)\n",
       "\tNeuron(nin=32, activation=sigmoid, label=Output-Layer_N4)\n",
       "\tNeuron(nin=32, activation=sigmoid, label=Output-Layer_N5)\n",
       "\tNeuron(nin=32, activation=sigmoid, label=Output-Layer_N6)\n",
       "\tNeuron(nin=32, activation=sigmoid, label=Output-Layer_N7)\n",
       "\tNeuron(nin=32, activation=sigmoid, label=Output-Layer_N8)\n",
       "\tNeuron(nin=32, activation=sigmoid, label=Output-Layer_N9)\n",
       "\tNeuron(nin=32, activation=sigmoid, label=Output-Layer_N10)])]"
      ]
     },
     "metadata": {},
     "output_type": "display_data"
    }
   ],
   "source": [
    "ffnn = FFNN(X, y_encoded, [784,32, 10], loss=\"mse\", active=[\"relu\", \"sigmoid\"], seed=69, weight=\"normal\", mean=0.5, variance=1)\n",
    "ffnn"
   ]
  },
  {
   "cell_type": "code",
   "execution_count": null,
   "metadata": {},
   "outputs": [
    {
     "name": "stderr",
     "output_type": "stream",
     "text": [
      "  0%|          | 0/1 [00:00<?, ?it/s]"
     ]
    },
    {
     "name": "stdout",
     "output_type": "stream",
     "text": [
      "Starting Epoch 0\n"
     ]
    },
    {
     "name": "stderr",
     "output_type": "stream",
     "text": [
      "100%|██████████| 1/1 [07:54<00:00, 474.20s/it]"
     ]
    },
    {
     "name": "stdout",
     "output_type": "stream",
     "text": [
      "Training Loss 0.9\n",
      "Validation Loss 0.9\n",
      "\n"
     ]
    },
    {
     "name": "stderr",
     "output_type": "stream",
     "text": [
      "\n"
     ]
    }
   ],
   "source": [
    "loss = ffnn.training(20, 0.005, 1, 3)"
   ]
  },
  {
   "cell_type": "code",
   "execution_count": null,
   "metadata": {},
   "outputs": [
    {
     "data": {
      "text/plain": [
       "Fully Connected Feed Forward Neural Network\n",
       "> X = 500 x 784\n",
       "> y = 500 x 1\n",
       "> MLP of 3 Layers [\n",
       "\tLayer(label=Hidden-Layer-1, neurons=[\n",
       "\tNeuron(nin=784, activation=sigmoid, label=Hidden-Layer-1_N1)\n",
       "\tNeuron(nin=784, activation=sigmoid, label=Hidden-Layer-1_N2)\n",
       "\tNeuron(nin=784, activation=sigmoid, label=Hidden-Layer-1_N3)\n",
       "\tNeuron(nin=784, activation=sigmoid, label=Hidden-Layer-1_N4)\n",
       "\tNeuron(nin=784, activation=sigmoid, label=Hidden-Layer-1_N5)\n",
       "\tNeuron(nin=784, activation=sigmoid, label=Hidden-Layer-1_N6)\n",
       "\tNeuron(nin=784, activation=sigmoid, label=Hidden-Layer-1_N7)\n",
       "\tNeuron(nin=784, activation=sigmoid, label=Hidden-Layer-1_N8)\n",
       "\tNeuron(nin=784, activation=sigmoid, label=Hidden-Layer-1_N9)\n",
       "\tNeuron(nin=784, activation=sigmoid, label=Hidden-Layer-1_N10)\n",
       "\tNeuron(nin=784, activation=sigmoid, label=Hidden-Layer-1_N11)\n",
       "\tNeuron(nin=784, activation=sigmoid, label=Hidden-Layer-1_N12)\n",
       "\tNeuron(nin=784, activation=sigmoid, label=Hidden-Layer-1_N13)\n",
       "\tNeuron(nin=784, activation=sigmoid, label=Hidden-Layer-1_N14)\n",
       "\tNeuron(nin=784, activation=sigmoid, label=Hidden-Layer-1_N15)\n",
       "\tNeuron(nin=784, activation=sigmoid, label=Hidden-Layer-1_N16)\n",
       "\tNeuron(nin=784, activation=sigmoid, label=Hidden-Layer-1_N17)\n",
       "\tNeuron(nin=784, activation=sigmoid, label=Hidden-Layer-1_N18)\n",
       "\tNeuron(nin=784, activation=sigmoid, label=Hidden-Layer-1_N19)\n",
       "\tNeuron(nin=784, activation=sigmoid, label=Hidden-Layer-1_N20)\n",
       "\tNeuron(nin=784, activation=sigmoid, label=Hidden-Layer-1_N21)\n",
       "\tNeuron(nin=784, activation=sigmoid, label=Hidden-Layer-1_N22)\n",
       "\tNeuron(nin=784, activation=sigmoid, label=Hidden-Layer-1_N23)\n",
       "\tNeuron(nin=784, activation=sigmoid, label=Hidden-Layer-1_N24)\n",
       "\tNeuron(nin=784, activation=sigmoid, label=Hidden-Layer-1_N25)\n",
       "\tNeuron(nin=784, activation=sigmoid, label=Hidden-Layer-1_N26)\n",
       "\tNeuron(nin=784, activation=sigmoid, label=Hidden-Layer-1_N27)\n",
       "\tNeuron(nin=784, activation=sigmoid, label=Hidden-Layer-1_N28)\n",
       "\tNeuron(nin=784, activation=sigmoid, label=Hidden-Layer-1_N29)\n",
       "\tNeuron(nin=784, activation=sigmoid, label=Hidden-Layer-1_N30)\n",
       "\tNeuron(nin=784, activation=sigmoid, label=Hidden-Layer-1_N31)\n",
       "\tNeuron(nin=784, activation=sigmoid, label=Hidden-Layer-1_N32)])\n",
       "\tLayer(label=Hidden-Layer-2, neurons=[\n",
       "\tNeuron(nin=32, activation=relu, label=Hidden-Layer-2_N1)\n",
       "\tNeuron(nin=32, activation=relu, label=Hidden-Layer-2_N2)\n",
       "\tNeuron(nin=32, activation=relu, label=Hidden-Layer-2_N3)\n",
       "\tNeuron(nin=32, activation=relu, label=Hidden-Layer-2_N4)\n",
       "\tNeuron(nin=32, activation=relu, label=Hidden-Layer-2_N5)\n",
       "\tNeuron(nin=32, activation=relu, label=Hidden-Layer-2_N6)\n",
       "\tNeuron(nin=32, activation=relu, label=Hidden-Layer-2_N7)\n",
       "\tNeuron(nin=32, activation=relu, label=Hidden-Layer-2_N8)\n",
       "\tNeuron(nin=32, activation=relu, label=Hidden-Layer-2_N9)\n",
       "\tNeuron(nin=32, activation=relu, label=Hidden-Layer-2_N10)\n",
       "\tNeuron(nin=32, activation=relu, label=Hidden-Layer-2_N11)\n",
       "\tNeuron(nin=32, activation=relu, label=Hidden-Layer-2_N12)\n",
       "\tNeuron(nin=32, activation=relu, label=Hidden-Layer-2_N13)\n",
       "\tNeuron(nin=32, activation=relu, label=Hidden-Layer-2_N14)\n",
       "\tNeuron(nin=32, activation=relu, label=Hidden-Layer-2_N15)\n",
       "\tNeuron(nin=32, activation=relu, label=Hidden-Layer-2_N16)])\n",
       "\tLayer(label=Output-Layer, neurons=[\n",
       "\tNeuron(nin=16, activation=sigmoid, label=Output-Layer_N1)\n",
       "\tNeuron(nin=16, activation=sigmoid, label=Output-Layer_N2)\n",
       "\tNeuron(nin=16, activation=sigmoid, label=Output-Layer_N3)\n",
       "\tNeuron(nin=16, activation=sigmoid, label=Output-Layer_N4)\n",
       "\tNeuron(nin=16, activation=sigmoid, label=Output-Layer_N5)\n",
       "\tNeuron(nin=16, activation=sigmoid, label=Output-Layer_N6)\n",
       "\tNeuron(nin=16, activation=sigmoid, label=Output-Layer_N7)\n",
       "\tNeuron(nin=16, activation=sigmoid, label=Output-Layer_N8)\n",
       "\tNeuron(nin=16, activation=sigmoid, label=Output-Layer_N9)\n",
       "\tNeuron(nin=16, activation=sigmoid, label=Output-Layer_N10)])]"
      ]
     },
     "metadata": {},
     "output_type": "display_data"
    }
   ],
   "source": [
    "ffnn = FFNN(X, y_encoded, [784,32,16,10], loss=\"mse\", active=[\"sigmoid\", \"relu\", \"sigmoid\"], seed=69, weight=\"normal\", mean=0.5, variance=1)\n",
    "ffnn"
   ]
  },
  {
   "cell_type": "code",
   "execution_count": null,
   "metadata": {},
   "outputs": [
    {
     "name": "stderr",
     "output_type": "stream",
     "text": [
      "  0%|          | 0/1 [00:00<?, ?it/s]"
     ]
    },
    {
     "name": "stdout",
     "output_type": "stream",
     "text": [
      "Starting Epoch 0\n"
     ]
    },
    {
     "name": "stderr",
     "output_type": "stream",
     "text": [
      "100%|██████████| 1/1 [08:26<00:00, 506.57s/it]"
     ]
    },
    {
     "name": "stdout",
     "output_type": "stream",
     "text": [
      "Training Loss 0.9\n",
      "Validation Loss 0.9\n",
      "\n"
     ]
    },
    {
     "name": "stderr",
     "output_type": "stream",
     "text": [
      "\n"
     ]
    }
   ],
   "source": [
    "loss = ffnn.training(20, 0.005, 1, 3)"
   ]
  }
 ],
 "metadata": {
  "language_info": {
   "name": "python"
  }
 },
 "nbformat": 4,
 "nbformat_minor": 2
}
