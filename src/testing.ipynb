{
 "cells": [
  {
   "cell_type": "markdown",
   "metadata": {},
   "source": [
    "# Tugas Besar 1 IF3270 Pembelajaran Mesin Feedforward Neural Network\n",
    "\n",
    "|   NIM    |            NAMA            |\n",
    "| :------: | :------------------------: |\n",
    "| 13522037 |    Farhan Nafis Rayhan     |\n",
    "| 13522091 | Raden Francisco Trianto B. |\n"
   ]
  },
  {
   "cell_type": "markdown",
   "metadata": {},
   "source": [
    "## Import Dataset MNIST"
   ]
  },
  {
   "cell_type": "code",
   "execution_count": 1,
   "metadata": {},
   "outputs": [],
   "source": [
    "import numpy as np\n",
    "from sklearn.datasets import fetch_openml\n",
    "\n",
    "X: np.ndarray  # input\n",
    "y: np.ndarray  # target\n",
    "\n",
    "# Load data from https://www.openml.org/search?type=data&sort=runs&id=554   \n",
    "X, y = fetch_openml(\"mnist_784\", version=1, return_X_y=True, as_frame=False)\n",
    "\n",
    " \n",
    "# MNIST: dataset of 28x28 pixel images of handwritten digits (0-9)\n",
    "# Input: vector of 784 pixels (28x28)\n",
    "# Target: number 0-9"
   ]
  },
  {
   "cell_type": "code",
   "execution_count": 2,
   "metadata": {},
   "outputs": [
    {
     "data": {
      "text/plain": [
       "((70000, 784), (70000,))"
      ]
     },
     "execution_count": 2,
     "metadata": {},
     "output_type": "execute_result"
    }
   ],
   "source": [
    "X.shape, y.shape"
   ]
  },
  {
   "cell_type": "markdown",
   "metadata": {},
   "source": [
    "## Split First 250 data"
   ]
  },
  {
   "cell_type": "code",
   "execution_count": 14,
   "metadata": {},
   "outputs": [],
   "source": [
    "X, y = X[:250], y[:250]"
   ]
  },
  {
   "cell_type": "code",
   "execution_count": 15,
   "metadata": {},
   "outputs": [
    {
     "data": {
      "text/plain": [
       "(array([[0, 0, 0, ..., 0, 0, 0],\n",
       "        [0, 0, 0, ..., 0, 0, 0],\n",
       "        [0, 0, 0, ..., 0, 0, 0],\n",
       "        ...,\n",
       "        [0, 0, 0, ..., 0, 0, 0],\n",
       "        [0, 0, 0, ..., 0, 0, 0],\n",
       "        [0, 0, 0, ..., 0, 0, 0]], dtype=int64),\n",
       " array(['5', '0', '4', '1', '9', '2', '1', '3', '1', '4', '3', '5', '3',\n",
       "        '6', '1', '7', '2', '8', '6', '9', '4', '0', '9', '1', '1', '2',\n",
       "        '4', '3', '2', '7', '3', '8', '6', '9', '0', '5', '6', '0', '7',\n",
       "        '6', '1', '8', '7', '9', '3', '9', '8', '5', '9', '3', '3', '0',\n",
       "        '7', '4', '9', '8', '0', '9', '4', '1', '4', '4', '6', '0', '4',\n",
       "        '5', '6', '1', '0', '0', '1', '7', '1', '6', '3', '0', '2', '1',\n",
       "        '1', '7', '9', '0', '2', '6', '7', '8', '3', '9', '0', '4', '6',\n",
       "        '7', '4', '6', '8', '0', '7', '8', '3', '1', '5', '7', '1', '7',\n",
       "        '1', '1', '6', '3', '0', '2', '9', '3', '1', '1', '0', '4', '9',\n",
       "        '2', '0', '0', '2', '0', '2', '7', '1', '8', '6', '4', '1', '6',\n",
       "        '3', '4', '5', '9', '1', '3', '3', '8', '5', '4', '7', '7', '4',\n",
       "        '2', '8', '5', '8', '6', '7', '3', '4', '6', '1', '9', '9', '6',\n",
       "        '0', '3', '7', '2', '8', '2', '9', '4', '4', '6', '4', '9', '7',\n",
       "        '0', '9', '2', '9', '5', '1', '5', '9', '1', '2', '3', '2', '3',\n",
       "        '5', '9', '1', '7', '6', '2', '8', '2', '2', '5', '0', '7', '4',\n",
       "        '9', '7', '8', '3', '2', '1', '1', '8', '3', '6', '1', '0', '3',\n",
       "        '1', '0', '0', '1', '7', '2', '7', '3', '0', '4', '6', '5', '2',\n",
       "        '6', '4', '7', '1', '8', '9', '9', '3', '0', '7', '1', '0', '2',\n",
       "        '0', '3', '5', '4', '6', '5', '8', '6', '3', '7', '5', '8', '0',\n",
       "        '9', '1', '0'], dtype=object))"
      ]
     },
     "execution_count": 15,
     "metadata": {},
     "output_type": "execute_result"
    }
   ],
   "source": [
    "X, y"
   ]
  },
  {
   "cell_type": "markdown",
   "metadata": {},
   "source": [
    "### Onehot Encode"
   ]
  },
  {
   "cell_type": "code",
   "execution_count": 17,
   "metadata": {},
   "outputs": [],
   "source": [
    "from sklearn.preprocessing import OneHotEncoder\n",
    "\n",
    "def one_hot_encode(X):\n",
    "    encoder = OneHotEncoder(sparse_output=False)\n",
    "    if X.ndim == 1:\n",
    "        X = X.reshape(-1, 1)\n",
    "    one_hot_encoded = encoder.fit_transform(X)\n",
    "    return one_hot_encoded"
   ]
  },
  {
   "cell_type": "code",
   "execution_count": 18,
   "metadata": {},
   "outputs": [
    {
     "name": "stdout",
     "output_type": "stream",
     "text": [
      "[[0. 0. 0. ... 0. 0. 0.]\n",
      " [1. 0. 0. ... 0. 0. 0.]\n",
      " [0. 0. 0. ... 0. 0. 0.]\n",
      " ...\n",
      " [0. 0. 0. ... 0. 0. 1.]\n",
      " [0. 1. 0. ... 0. 0. 0.]\n",
      " [1. 0. 0. ... 0. 0. 0.]]\n"
     ]
    }
   ],
   "source": [
    "y_encoded = one_hot_encode(y)\n",
    "print(y_encoded)"
   ]
  },
  {
   "cell_type": "markdown",
   "metadata": {},
   "source": [
    "## Import Model"
   ]
  },
  {
   "cell_type": "code",
   "execution_count": 7,
   "metadata": {},
   "outputs": [],
   "source": [
    "import sys\n",
    "import os\n",
    "\n",
    "# Get the absolute path of the src directory\n",
    "sys.path.append(os.path.abspath('../')) \n",
    "\n",
    "from model.ffnn import FFNN"
   ]
  },
  {
   "cell_type": "markdown",
   "metadata": {},
   "source": [
    "### 1. Testing Pengaruh Depth dan Width"
   ]
  },
  {
   "cell_type": "markdown",
   "metadata": {},
   "source": [
    "#### a. Pengaruh Depth"
   ]
  },
  {
   "cell_type": "markdown",
   "metadata": {},
   "source": [
    "##### -> Depth = 2 Layer"
   ]
  },
  {
   "cell_type": "code",
   "execution_count": 8,
   "metadata": {},
   "outputs": [
    {
     "data": {
      "text/plain": [
       "Fully Connected Feed Forward Neural Network\n",
       "> X = 500 x 784\n",
       "> y = 500 x 1\n",
       "> MLP of 1 Layers [\n",
       "\tLayer(label=Hidden-Layer-1, neurons=[\n",
       "\tNeuron(nin=784, activation=sigmoid, label=Hidden-Layer-1_N1)\n",
       "\tNeuron(nin=784, activation=sigmoid, label=Hidden-Layer-1_N2)\n",
       "\tNeuron(nin=784, activation=sigmoid, label=Hidden-Layer-1_N3)\n",
       "\tNeuron(nin=784, activation=sigmoid, label=Hidden-Layer-1_N4)\n",
       "\tNeuron(nin=784, activation=sigmoid, label=Hidden-Layer-1_N5)\n",
       "\tNeuron(nin=784, activation=sigmoid, label=Hidden-Layer-1_N6)\n",
       "\tNeuron(nin=784, activation=sigmoid, label=Hidden-Layer-1_N7)\n",
       "\tNeuron(nin=784, activation=sigmoid, label=Hidden-Layer-1_N8)\n",
       "\tNeuron(nin=784, activation=sigmoid, label=Hidden-Layer-1_N9)\n",
       "\tNeuron(nin=784, activation=sigmoid, label=Hidden-Layer-1_N10)])]"
      ]
     },
     "execution_count": 8,
     "metadata": {},
     "output_type": "execute_result"
    }
   ],
   "source": [
    "ffnn = FFNN(X, y_encoded, [784, 10], loss=\"mse\", active=[\"sigmoid\"], seed=69, weight=\"normal\", mean=0.5, variance=1)\n",
    "ffnn"
   ]
  },
  {
   "cell_type": "code",
   "execution_count": null,
   "metadata": {},
   "outputs": [
    {
     "name": "stderr",
     "output_type": "stream",
     "text": [
      "  0%|          | 0/1 [00:00<?, ?it/s]"
     ]
    },
    {
     "name": "stdout",
     "output_type": "stream",
     "text": [
      "Starting Epoch 0\n"
     ]
    },
    {
     "name": "stderr",
     "output_type": "stream",
     "text": [
      "100%|██████████| 1/1 [02:23<00:00, 143.03s/it]"
     ]
    },
    {
     "name": "stdout",
     "output_type": "stream",
     "text": [
      "Training Loss 0.9\n",
      "Validation Loss 0.9\n",
      "\n"
     ]
    },
    {
     "name": "stderr",
     "output_type": "stream",
     "text": [
      "\n"
     ]
    }
   ],
   "source": [
    "loss = ffnn.training(20, 0.005, 1, 3)"
   ]
  },
  {
   "cell_type": "markdown",
   "metadata": {},
   "source": [
    "##### -> Depth = 3 Layer"
   ]
  },
  {
   "cell_type": "code",
   "execution_count": 10,
   "metadata": {},
   "outputs": [
    {
     "data": {
      "text/plain": [
       "Fully Connected Feed Forward Neural Network\n",
       "> X = 500 x 784\n",
       "> y = 500 x 1\n",
       "> MLP of 2 Layers [\n",
       "\tLayer(label=Hidden-Layer-1, neurons=[\n",
       "\tNeuron(nin=784, activation=relu, label=Hidden-Layer-1_N1)\n",
       "\tNeuron(nin=784, activation=relu, label=Hidden-Layer-1_N2)\n",
       "\tNeuron(nin=784, activation=relu, label=Hidden-Layer-1_N3)\n",
       "\tNeuron(nin=784, activation=relu, label=Hidden-Layer-1_N4)\n",
       "\tNeuron(nin=784, activation=relu, label=Hidden-Layer-1_N5)\n",
       "\tNeuron(nin=784, activation=relu, label=Hidden-Layer-1_N6)\n",
       "\tNeuron(nin=784, activation=relu, label=Hidden-Layer-1_N7)\n",
       "\tNeuron(nin=784, activation=relu, label=Hidden-Layer-1_N8)\n",
       "\tNeuron(nin=784, activation=relu, label=Hidden-Layer-1_N9)\n",
       "\tNeuron(nin=784, activation=relu, label=Hidden-Layer-1_N10)\n",
       "\tNeuron(nin=784, activation=relu, label=Hidden-Layer-1_N11)\n",
       "\tNeuron(nin=784, activation=relu, label=Hidden-Layer-1_N12)\n",
       "\tNeuron(nin=784, activation=relu, label=Hidden-Layer-1_N13)\n",
       "\tNeuron(nin=784, activation=relu, label=Hidden-Layer-1_N14)\n",
       "\tNeuron(nin=784, activation=relu, label=Hidden-Layer-1_N15)\n",
       "\tNeuron(nin=784, activation=relu, label=Hidden-Layer-1_N16)\n",
       "\tNeuron(nin=784, activation=relu, label=Hidden-Layer-1_N17)\n",
       "\tNeuron(nin=784, activation=relu, label=Hidden-Layer-1_N18)\n",
       "\tNeuron(nin=784, activation=relu, label=Hidden-Layer-1_N19)\n",
       "\tNeuron(nin=784, activation=relu, label=Hidden-Layer-1_N20)\n",
       "\tNeuron(nin=784, activation=relu, label=Hidden-Layer-1_N21)\n",
       "\tNeuron(nin=784, activation=relu, label=Hidden-Layer-1_N22)\n",
       "\tNeuron(nin=784, activation=relu, label=Hidden-Layer-1_N23)\n",
       "\tNeuron(nin=784, activation=relu, label=Hidden-Layer-1_N24)\n",
       "\tNeuron(nin=784, activation=relu, label=Hidden-Layer-1_N25)\n",
       "\tNeuron(nin=784, activation=relu, label=Hidden-Layer-1_N26)\n",
       "\tNeuron(nin=784, activation=relu, label=Hidden-Layer-1_N27)\n",
       "\tNeuron(nin=784, activation=relu, label=Hidden-Layer-1_N28)\n",
       "\tNeuron(nin=784, activation=relu, label=Hidden-Layer-1_N29)\n",
       "\tNeuron(nin=784, activation=relu, label=Hidden-Layer-1_N30)\n",
       "\tNeuron(nin=784, activation=relu, label=Hidden-Layer-1_N31)\n",
       "\tNeuron(nin=784, activation=relu, label=Hidden-Layer-1_N32)])\n",
       "\tLayer(label=Output-Layer, neurons=[\n",
       "\tNeuron(nin=32, activation=sigmoid, label=Output-Layer_N1)\n",
       "\tNeuron(nin=32, activation=sigmoid, label=Output-Layer_N2)\n",
       "\tNeuron(nin=32, activation=sigmoid, label=Output-Layer_N3)\n",
       "\tNeuron(nin=32, activation=sigmoid, label=Output-Layer_N4)\n",
       "\tNeuron(nin=32, activation=sigmoid, label=Output-Layer_N5)\n",
       "\tNeuron(nin=32, activation=sigmoid, label=Output-Layer_N6)\n",
       "\tNeuron(nin=32, activation=sigmoid, label=Output-Layer_N7)\n",
       "\tNeuron(nin=32, activation=sigmoid, label=Output-Layer_N8)\n",
       "\tNeuron(nin=32, activation=sigmoid, label=Output-Layer_N9)\n",
       "\tNeuron(nin=32, activation=sigmoid, label=Output-Layer_N10)])]"
      ]
     },
     "execution_count": 10,
     "metadata": {},
     "output_type": "execute_result"
    }
   ],
   "source": [
    "ffnn = FFNN(X, y_encoded, [784,32, 10], loss=\"mse\", active=[\"relu\", \"sigmoid\"], seed=69, weight=\"normal\", mean=0.5, variance=1)\n",
    "ffnn"
   ]
  },
  {
   "cell_type": "code",
   "execution_count": null,
   "metadata": {},
   "outputs": [
    {
     "name": "stderr",
     "output_type": "stream",
     "text": [
      "  0%|          | 0/1 [00:00<?, ?it/s]"
     ]
    },
    {
     "name": "stdout",
     "output_type": "stream",
     "text": [
      "Starting Epoch 0\n"
     ]
    },
    {
     "name": "stderr",
     "output_type": "stream",
     "text": [
      "100%|██████████| 1/1 [07:54<00:00, 474.20s/it]"
     ]
    },
    {
     "name": "stdout",
     "output_type": "stream",
     "text": [
      "Training Loss 0.9\n",
      "Validation Loss 0.9\n",
      "\n"
     ]
    },
    {
     "name": "stderr",
     "output_type": "stream",
     "text": [
      "\n"
     ]
    }
   ],
   "source": [
    "loss = ffnn.training(20, 0.005, 1, 3)"
   ]
  },
  {
   "cell_type": "markdown",
   "metadata": {},
   "source": [
    "##### -> Depth = 4 Layer"
   ]
  },
  {
   "cell_type": "code",
   "execution_count": 14,
   "metadata": {},
   "outputs": [
    {
     "data": {
      "text/plain": [
       "Fully Connected Feed Forward Neural Network\n",
       "> X = 500 x 784\n",
       "> y = 500 x 1\n",
       "> MLP of 3 Layers [\n",
       "\tLayer(label=Hidden-Layer-1, neurons=[\n",
       "\tNeuron(nin=784, activation=sigmoid, label=Hidden-Layer-1_N1)\n",
       "\tNeuron(nin=784, activation=sigmoid, label=Hidden-Layer-1_N2)\n",
       "\tNeuron(nin=784, activation=sigmoid, label=Hidden-Layer-1_N3)\n",
       "\tNeuron(nin=784, activation=sigmoid, label=Hidden-Layer-1_N4)\n",
       "\tNeuron(nin=784, activation=sigmoid, label=Hidden-Layer-1_N5)\n",
       "\tNeuron(nin=784, activation=sigmoid, label=Hidden-Layer-1_N6)\n",
       "\tNeuron(nin=784, activation=sigmoid, label=Hidden-Layer-1_N7)\n",
       "\tNeuron(nin=784, activation=sigmoid, label=Hidden-Layer-1_N8)\n",
       "\tNeuron(nin=784, activation=sigmoid, label=Hidden-Layer-1_N9)\n",
       "\tNeuron(nin=784, activation=sigmoid, label=Hidden-Layer-1_N10)\n",
       "\tNeuron(nin=784, activation=sigmoid, label=Hidden-Layer-1_N11)\n",
       "\tNeuron(nin=784, activation=sigmoid, label=Hidden-Layer-1_N12)\n",
       "\tNeuron(nin=784, activation=sigmoid, label=Hidden-Layer-1_N13)\n",
       "\tNeuron(nin=784, activation=sigmoid, label=Hidden-Layer-1_N14)\n",
       "\tNeuron(nin=784, activation=sigmoid, label=Hidden-Layer-1_N15)\n",
       "\tNeuron(nin=784, activation=sigmoid, label=Hidden-Layer-1_N16)\n",
       "\tNeuron(nin=784, activation=sigmoid, label=Hidden-Layer-1_N17)\n",
       "\tNeuron(nin=784, activation=sigmoid, label=Hidden-Layer-1_N18)\n",
       "\tNeuron(nin=784, activation=sigmoid, label=Hidden-Layer-1_N19)\n",
       "\tNeuron(nin=784, activation=sigmoid, label=Hidden-Layer-1_N20)\n",
       "\tNeuron(nin=784, activation=sigmoid, label=Hidden-Layer-1_N21)\n",
       "\tNeuron(nin=784, activation=sigmoid, label=Hidden-Layer-1_N22)\n",
       "\tNeuron(nin=784, activation=sigmoid, label=Hidden-Layer-1_N23)\n",
       "\tNeuron(nin=784, activation=sigmoid, label=Hidden-Layer-1_N24)\n",
       "\tNeuron(nin=784, activation=sigmoid, label=Hidden-Layer-1_N25)\n",
       "\tNeuron(nin=784, activation=sigmoid, label=Hidden-Layer-1_N26)\n",
       "\tNeuron(nin=784, activation=sigmoid, label=Hidden-Layer-1_N27)\n",
       "\tNeuron(nin=784, activation=sigmoid, label=Hidden-Layer-1_N28)\n",
       "\tNeuron(nin=784, activation=sigmoid, label=Hidden-Layer-1_N29)\n",
       "\tNeuron(nin=784, activation=sigmoid, label=Hidden-Layer-1_N30)\n",
       "\tNeuron(nin=784, activation=sigmoid, label=Hidden-Layer-1_N31)\n",
       "\tNeuron(nin=784, activation=sigmoid, label=Hidden-Layer-1_N32)])\n",
       "\tLayer(label=Hidden-Layer-2, neurons=[\n",
       "\tNeuron(nin=32, activation=relu, label=Hidden-Layer-2_N1)\n",
       "\tNeuron(nin=32, activation=relu, label=Hidden-Layer-2_N2)\n",
       "\tNeuron(nin=32, activation=relu, label=Hidden-Layer-2_N3)\n",
       "\tNeuron(nin=32, activation=relu, label=Hidden-Layer-2_N4)\n",
       "\tNeuron(nin=32, activation=relu, label=Hidden-Layer-2_N5)\n",
       "\tNeuron(nin=32, activation=relu, label=Hidden-Layer-2_N6)\n",
       "\tNeuron(nin=32, activation=relu, label=Hidden-Layer-2_N7)\n",
       "\tNeuron(nin=32, activation=relu, label=Hidden-Layer-2_N8)\n",
       "\tNeuron(nin=32, activation=relu, label=Hidden-Layer-2_N9)\n",
       "\tNeuron(nin=32, activation=relu, label=Hidden-Layer-2_N10)\n",
       "\tNeuron(nin=32, activation=relu, label=Hidden-Layer-2_N11)\n",
       "\tNeuron(nin=32, activation=relu, label=Hidden-Layer-2_N12)\n",
       "\tNeuron(nin=32, activation=relu, label=Hidden-Layer-2_N13)\n",
       "\tNeuron(nin=32, activation=relu, label=Hidden-Layer-2_N14)\n",
       "\tNeuron(nin=32, activation=relu, label=Hidden-Layer-2_N15)\n",
       "\tNeuron(nin=32, activation=relu, label=Hidden-Layer-2_N16)])\n",
       "\tLayer(label=Output-Layer, neurons=[\n",
       "\tNeuron(nin=16, activation=sigmoid, label=Output-Layer_N1)\n",
       "\tNeuron(nin=16, activation=sigmoid, label=Output-Layer_N2)\n",
       "\tNeuron(nin=16, activation=sigmoid, label=Output-Layer_N3)\n",
       "\tNeuron(nin=16, activation=sigmoid, label=Output-Layer_N4)\n",
       "\tNeuron(nin=16, activation=sigmoid, label=Output-Layer_N5)\n",
       "\tNeuron(nin=16, activation=sigmoid, label=Output-Layer_N6)\n",
       "\tNeuron(nin=16, activation=sigmoid, label=Output-Layer_N7)\n",
       "\tNeuron(nin=16, activation=sigmoid, label=Output-Layer_N8)\n",
       "\tNeuron(nin=16, activation=sigmoid, label=Output-Layer_N9)\n",
       "\tNeuron(nin=16, activation=sigmoid, label=Output-Layer_N10)])]"
      ]
     },
     "execution_count": 14,
     "metadata": {},
     "output_type": "execute_result"
    }
   ],
   "source": [
    "ffnn = FFNN(X, y_encoded, [784,32,16,10], loss=\"mse\", active=[\"sigmoid\", \"relu\", \"sigmoid\"], seed=69, weight=\"normal\", mean=0.5, variance=1)\n",
    "ffnn"
   ]
  },
  {
   "cell_type": "code",
   "execution_count": null,
   "metadata": {},
   "outputs": [
    {
     "name": "stderr",
     "output_type": "stream",
     "text": [
      "  0%|          | 0/1 [00:00<?, ?it/s]"
     ]
    },
    {
     "name": "stdout",
     "output_type": "stream",
     "text": [
      "Starting Epoch 0\n"
     ]
    },
    {
     "name": "stderr",
     "output_type": "stream",
     "text": [
      "100%|██████████| 1/1 [08:26<00:00, 506.57s/it]"
     ]
    },
    {
     "name": "stdout",
     "output_type": "stream",
     "text": [
      "Training Loss 0.9\n",
      "Validation Loss 0.9\n",
      "\n"
     ]
    },
    {
     "name": "stderr",
     "output_type": "stream",
     "text": [
      "\n"
     ]
    }
   ],
   "source": [
    "loss = ffnn.training(20, 0.005, 1, 3)"
   ]
  },
  {
   "cell_type": "markdown",
   "metadata": {},
   "source": [
    "#### b. Pengaruh Width"
   ]
  },
  {
   "cell_type": "markdown",
   "metadata": {},
   "source": [
    "##### -> Width = 784, 26, 10, 10"
   ]
  },
  {
   "cell_type": "code",
   "execution_count": 19,
   "metadata": {},
   "outputs": [
    {
     "data": {
      "text/plain": [
       "Fully Connected Feed Forward Neural Network\n",
       "> X = 250 x 784\n",
       "> y = 250 x 1\n",
       "> MLP of 3 Layers [\n",
       "\tLayer(label=Hidden-Layer-1, neurons=[\n",
       "\tNeuron(nin=784, activation=sigmoid, label=Hidden-Layer-1_N1)\n",
       "\tNeuron(nin=784, activation=sigmoid, label=Hidden-Layer-1_N2)\n",
       "\tNeuron(nin=784, activation=sigmoid, label=Hidden-Layer-1_N3)\n",
       "\tNeuron(nin=784, activation=sigmoid, label=Hidden-Layer-1_N4)\n",
       "\tNeuron(nin=784, activation=sigmoid, label=Hidden-Layer-1_N5)\n",
       "\tNeuron(nin=784, activation=sigmoid, label=Hidden-Layer-1_N6)\n",
       "\tNeuron(nin=784, activation=sigmoid, label=Hidden-Layer-1_N7)\n",
       "\tNeuron(nin=784, activation=sigmoid, label=Hidden-Layer-1_N8)\n",
       "\tNeuron(nin=784, activation=sigmoid, label=Hidden-Layer-1_N9)\n",
       "\tNeuron(nin=784, activation=sigmoid, label=Hidden-Layer-1_N10)\n",
       "\tNeuron(nin=784, activation=sigmoid, label=Hidden-Layer-1_N11)\n",
       "\tNeuron(nin=784, activation=sigmoid, label=Hidden-Layer-1_N12)\n",
       "\tNeuron(nin=784, activation=sigmoid, label=Hidden-Layer-1_N13)\n",
       "\tNeuron(nin=784, activation=sigmoid, label=Hidden-Layer-1_N14)\n",
       "\tNeuron(nin=784, activation=sigmoid, label=Hidden-Layer-1_N15)\n",
       "\tNeuron(nin=784, activation=sigmoid, label=Hidden-Layer-1_N16)\n",
       "\tNeuron(nin=784, activation=sigmoid, label=Hidden-Layer-1_N17)\n",
       "\tNeuron(nin=784, activation=sigmoid, label=Hidden-Layer-1_N18)\n",
       "\tNeuron(nin=784, activation=sigmoid, label=Hidden-Layer-1_N19)\n",
       "\tNeuron(nin=784, activation=sigmoid, label=Hidden-Layer-1_N20)\n",
       "\tNeuron(nin=784, activation=sigmoid, label=Hidden-Layer-1_N21)\n",
       "\tNeuron(nin=784, activation=sigmoid, label=Hidden-Layer-1_N22)\n",
       "\tNeuron(nin=784, activation=sigmoid, label=Hidden-Layer-1_N23)\n",
       "\tNeuron(nin=784, activation=sigmoid, label=Hidden-Layer-1_N24)\n",
       "\tNeuron(nin=784, activation=sigmoid, label=Hidden-Layer-1_N25)\n",
       "\tNeuron(nin=784, activation=sigmoid, label=Hidden-Layer-1_N26)])\n",
       "\tLayer(label=Hidden-Layer-2, neurons=[\n",
       "\tNeuron(nin=26, activation=relu, label=Hidden-Layer-2_N1)\n",
       "\tNeuron(nin=26, activation=relu, label=Hidden-Layer-2_N2)\n",
       "\tNeuron(nin=26, activation=relu, label=Hidden-Layer-2_N3)\n",
       "\tNeuron(nin=26, activation=relu, label=Hidden-Layer-2_N4)\n",
       "\tNeuron(nin=26, activation=relu, label=Hidden-Layer-2_N5)\n",
       "\tNeuron(nin=26, activation=relu, label=Hidden-Layer-2_N6)\n",
       "\tNeuron(nin=26, activation=relu, label=Hidden-Layer-2_N7)\n",
       "\tNeuron(nin=26, activation=relu, label=Hidden-Layer-2_N8)\n",
       "\tNeuron(nin=26, activation=relu, label=Hidden-Layer-2_N9)\n",
       "\tNeuron(nin=26, activation=relu, label=Hidden-Layer-2_N10)])\n",
       "\tLayer(label=Output-Layer, neurons=[\n",
       "\tNeuron(nin=10, activation=sigmoid, label=Output-Layer_N1)\n",
       "\tNeuron(nin=10, activation=sigmoid, label=Output-Layer_N2)\n",
       "\tNeuron(nin=10, activation=sigmoid, label=Output-Layer_N3)\n",
       "\tNeuron(nin=10, activation=sigmoid, label=Output-Layer_N4)\n",
       "\tNeuron(nin=10, activation=sigmoid, label=Output-Layer_N5)\n",
       "\tNeuron(nin=10, activation=sigmoid, label=Output-Layer_N6)\n",
       "\tNeuron(nin=10, activation=sigmoid, label=Output-Layer_N7)\n",
       "\tNeuron(nin=10, activation=sigmoid, label=Output-Layer_N8)\n",
       "\tNeuron(nin=10, activation=sigmoid, label=Output-Layer_N9)\n",
       "\tNeuron(nin=10, activation=sigmoid, label=Output-Layer_N10)])]"
      ]
     },
     "execution_count": 19,
     "metadata": {},
     "output_type": "execute_result"
    }
   ],
   "source": [
    "ffnn = FFNN(X, y_encoded, [784,26,10,10], loss=\"mse\", active=[\"sigmoid\", \"relu\", \"sigmoid\"], seed=69, weight=\"normal\", mean=0.5, variance=1)\n",
    "ffnn"
   ]
  },
  {
   "cell_type": "code",
   "execution_count": 20,
   "metadata": {},
   "outputs": [
    {
     "name": "stdout",
     "output_type": "stream",
     "text": [
      "Starting Epoch 0\n"
     ]
    }
   ],
   "source": [
    "loss = ffnn.training(20, 0.005, 1, 2)"
   ]
  },
  {
   "cell_type": "markdown",
   "metadata": {},
   "source": [
    "##### -> Width = 784, 32, 16, 10"
   ]
  },
  {
   "cell_type": "code",
   "execution_count": 21,
   "metadata": {},
   "outputs": [
    {
     "data": {
      "text/plain": [
       "Fully Connected Feed Forward Neural Network\n",
       "> X = 250 x 784\n",
       "> y = 250 x 1\n",
       "> MLP of 3 Layers [\n",
       "\tLayer(label=Hidden-Layer-1, neurons=[\n",
       "\tNeuron(nin=784, activation=sigmoid, label=Hidden-Layer-1_N1)\n",
       "\tNeuron(nin=784, activation=sigmoid, label=Hidden-Layer-1_N2)\n",
       "\tNeuron(nin=784, activation=sigmoid, label=Hidden-Layer-1_N3)\n",
       "\tNeuron(nin=784, activation=sigmoid, label=Hidden-Layer-1_N4)\n",
       "\tNeuron(nin=784, activation=sigmoid, label=Hidden-Layer-1_N5)\n",
       "\tNeuron(nin=784, activation=sigmoid, label=Hidden-Layer-1_N6)\n",
       "\tNeuron(nin=784, activation=sigmoid, label=Hidden-Layer-1_N7)\n",
       "\tNeuron(nin=784, activation=sigmoid, label=Hidden-Layer-1_N8)\n",
       "\tNeuron(nin=784, activation=sigmoid, label=Hidden-Layer-1_N9)\n",
       "\tNeuron(nin=784, activation=sigmoid, label=Hidden-Layer-1_N10)\n",
       "\tNeuron(nin=784, activation=sigmoid, label=Hidden-Layer-1_N11)\n",
       "\tNeuron(nin=784, activation=sigmoid, label=Hidden-Layer-1_N12)\n",
       "\tNeuron(nin=784, activation=sigmoid, label=Hidden-Layer-1_N13)\n",
       "\tNeuron(nin=784, activation=sigmoid, label=Hidden-Layer-1_N14)\n",
       "\tNeuron(nin=784, activation=sigmoid, label=Hidden-Layer-1_N15)\n",
       "\tNeuron(nin=784, activation=sigmoid, label=Hidden-Layer-1_N16)\n",
       "\tNeuron(nin=784, activation=sigmoid, label=Hidden-Layer-1_N17)\n",
       "\tNeuron(nin=784, activation=sigmoid, label=Hidden-Layer-1_N18)\n",
       "\tNeuron(nin=784, activation=sigmoid, label=Hidden-Layer-1_N19)\n",
       "\tNeuron(nin=784, activation=sigmoid, label=Hidden-Layer-1_N20)\n",
       "\tNeuron(nin=784, activation=sigmoid, label=Hidden-Layer-1_N21)\n",
       "\tNeuron(nin=784, activation=sigmoid, label=Hidden-Layer-1_N22)\n",
       "\tNeuron(nin=784, activation=sigmoid, label=Hidden-Layer-1_N23)\n",
       "\tNeuron(nin=784, activation=sigmoid, label=Hidden-Layer-1_N24)\n",
       "\tNeuron(nin=784, activation=sigmoid, label=Hidden-Layer-1_N25)\n",
       "\tNeuron(nin=784, activation=sigmoid, label=Hidden-Layer-1_N26)\n",
       "\tNeuron(nin=784, activation=sigmoid, label=Hidden-Layer-1_N27)\n",
       "\tNeuron(nin=784, activation=sigmoid, label=Hidden-Layer-1_N28)\n",
       "\tNeuron(nin=784, activation=sigmoid, label=Hidden-Layer-1_N29)\n",
       "\tNeuron(nin=784, activation=sigmoid, label=Hidden-Layer-1_N30)\n",
       "\tNeuron(nin=784, activation=sigmoid, label=Hidden-Layer-1_N31)\n",
       "\tNeuron(nin=784, activation=sigmoid, label=Hidden-Layer-1_N32)])\n",
       "\tLayer(label=Hidden-Layer-2, neurons=[\n",
       "\tNeuron(nin=32, activation=relu, label=Hidden-Layer-2_N1)\n",
       "\tNeuron(nin=32, activation=relu, label=Hidden-Layer-2_N2)\n",
       "\tNeuron(nin=32, activation=relu, label=Hidden-Layer-2_N3)\n",
       "\tNeuron(nin=32, activation=relu, label=Hidden-Layer-2_N4)\n",
       "\tNeuron(nin=32, activation=relu, label=Hidden-Layer-2_N5)\n",
       "\tNeuron(nin=32, activation=relu, label=Hidden-Layer-2_N6)\n",
       "\tNeuron(nin=32, activation=relu, label=Hidden-Layer-2_N7)\n",
       "\tNeuron(nin=32, activation=relu, label=Hidden-Layer-2_N8)\n",
       "\tNeuron(nin=32, activation=relu, label=Hidden-Layer-2_N9)\n",
       "\tNeuron(nin=32, activation=relu, label=Hidden-Layer-2_N10)\n",
       "\tNeuron(nin=32, activation=relu, label=Hidden-Layer-2_N11)\n",
       "\tNeuron(nin=32, activation=relu, label=Hidden-Layer-2_N12)\n",
       "\tNeuron(nin=32, activation=relu, label=Hidden-Layer-2_N13)\n",
       "\tNeuron(nin=32, activation=relu, label=Hidden-Layer-2_N14)\n",
       "\tNeuron(nin=32, activation=relu, label=Hidden-Layer-2_N15)\n",
       "\tNeuron(nin=32, activation=relu, label=Hidden-Layer-2_N16)])\n",
       "\tLayer(label=Output-Layer, neurons=[\n",
       "\tNeuron(nin=16, activation=sigmoid, label=Output-Layer_N1)\n",
       "\tNeuron(nin=16, activation=sigmoid, label=Output-Layer_N2)\n",
       "\tNeuron(nin=16, activation=sigmoid, label=Output-Layer_N3)\n",
       "\tNeuron(nin=16, activation=sigmoid, label=Output-Layer_N4)\n",
       "\tNeuron(nin=16, activation=sigmoid, label=Output-Layer_N5)\n",
       "\tNeuron(nin=16, activation=sigmoid, label=Output-Layer_N6)\n",
       "\tNeuron(nin=16, activation=sigmoid, label=Output-Layer_N7)\n",
       "\tNeuron(nin=16, activation=sigmoid, label=Output-Layer_N8)\n",
       "\tNeuron(nin=16, activation=sigmoid, label=Output-Layer_N9)\n",
       "\tNeuron(nin=16, activation=sigmoid, label=Output-Layer_N10)])]"
      ]
     },
     "execution_count": 21,
     "metadata": {},
     "output_type": "execute_result"
    }
   ],
   "source": [
    "ffnn = FFNN(X, y_encoded, [784, 32, 16, 10], loss=\"mse\", active=[\"sigmoid\", \"relu\", \"sigmoid\"], seed=69, weight=\"normal\", mean=0.5, variance=1)\n",
    "ffnn"
   ]
  },
  {
   "cell_type": "code",
   "execution_count": 22,
   "metadata": {},
   "outputs": [
    {
     "name": "stdout",
     "output_type": "stream",
     "text": [
      "Starting Epoch 0\n"
     ]
    }
   ],
   "source": [
    "loss = ffnn.training(20, 0.005, 1, 2)"
   ]
  },
  {
   "cell_type": "markdown",
   "metadata": {},
   "source": [
    "##### -> Width = 784, 38, 22, 10"
   ]
  },
  {
   "cell_type": "markdown",
   "metadata": {},
   "source": [
    "### 2. Testing Pengaruh Fungsi Aktivasi"
   ]
  },
  {
   "cell_type": "markdown",
   "metadata": {},
   "source": [
    "### 3. Testing Pengaruh Inisialisasi Bobot"
   ]
  },
  {
   "cell_type": "markdown",
   "metadata": {},
   "source": [
    "### 4. Perbandingan dengan library sklearn"
   ]
  }
 ],
 "metadata": {
  "kernelspec": {
   "display_name": "Python 3",
   "language": "python",
   "name": "python3"
  },
  "language_info": {
   "codemirror_mode": {
    "name": "ipython",
    "version": 3
   },
   "file_extension": ".py",
   "mimetype": "text/x-python",
   "name": "python",
   "nbconvert_exporter": "python",
   "pygments_lexer": "ipython3",
   "version": "3.12.3"
  }
 },
 "nbformat": 4,
 "nbformat_minor": 2
}
