{
 "cells": [
  {
   "cell_type": "markdown",
   "metadata": {},
   "source": [
    "# Regularization Impact"
   ]
  },
  {
   "cell_type": "markdown",
   "metadata": {},
   "source": [
    "## Import Dataset MNIST"
   ]
  },
  {
   "cell_type": "code",
   "execution_count": 1,
   "metadata": {},
   "outputs": [],
   "source": [
    "import numpy as np\n",
    "from sklearn.datasets import fetch_openml\n",
    "\n",
    "X: np.ndarray  # input\n",
    "y: np.ndarray  # target\n",
    "\n",
    "# Load data from https://www.openml.org/search?type=data&sort=runs&id=554   \n",
    "X, y = fetch_openml(\"mnist_784\", version=1, return_X_y=True, as_frame=False)\n",
    "\n",
    " \n",
    "# MNIST: dataset of 28x28 pixel images of handwritten digits (0-9)\n",
    "# Input: vector of 784 pixels (28x28)\n",
    "# Target: number 0-9"
   ]
  },
  {
   "cell_type": "code",
   "execution_count": 2,
   "metadata": {},
   "outputs": [
    {
     "data": {
      "text/plain": [
       "((70000, 784), (70000,))"
      ]
     },
     "execution_count": 2,
     "metadata": {},
     "output_type": "execute_result"
    }
   ],
   "source": [
    "X.shape, y.shape"
   ]
  },
  {
   "cell_type": "markdown",
   "metadata": {},
   "source": [
    "## Use only 1000 data"
   ]
  },
  {
   "cell_type": "code",
   "execution_count": 3,
   "metadata": {},
   "outputs": [],
   "source": [
    "X, y = X[:1000], y[:1000]"
   ]
  },
  {
   "cell_type": "code",
   "execution_count": 4,
   "metadata": {},
   "outputs": [
    {
     "data": {
      "text/plain": [
       "(array([[0, 0, 0, ..., 0, 0, 0],\n",
       "        [0, 0, 0, ..., 0, 0, 0],\n",
       "        [0, 0, 0, ..., 0, 0, 0],\n",
       "        ...,\n",
       "        [0, 0, 0, ..., 0, 0, 0],\n",
       "        [0, 0, 0, ..., 0, 0, 0],\n",
       "        [0, 0, 0, ..., 0, 0, 0]], shape=(1000, 784)),\n",
       " array(['5', '0', '4', '1', '9', '2', '1', '3', '1', '4', '3', '5', '3',\n",
       "        '6', '1', '7', '2', '8', '6', '9', '4', '0', '9', '1', '1', '2',\n",
       "        '4', '3', '2', '7', '3', '8', '6', '9', '0', '5', '6', '0', '7',\n",
       "        '6', '1', '8', '7', '9', '3', '9', '8', '5', '9', '3', '3', '0',\n",
       "        '7', '4', '9', '8', '0', '9', '4', '1', '4', '4', '6', '0', '4',\n",
       "        '5', '6', '1', '0', '0', '1', '7', '1', '6', '3', '0', '2', '1',\n",
       "        '1', '7', '9', '0', '2', '6', '7', '8', '3', '9', '0', '4', '6',\n",
       "        '7', '4', '6', '8', '0', '7', '8', '3', '1', '5', '7', '1', '7',\n",
       "        '1', '1', '6', '3', '0', '2', '9', '3', '1', '1', '0', '4', '9',\n",
       "        '2', '0', '0', '2', '0', '2', '7', '1', '8', '6', '4', '1', '6',\n",
       "        '3', '4', '5', '9', '1', '3', '3', '8', '5', '4', '7', '7', '4',\n",
       "        '2', '8', '5', '8', '6', '7', '3', '4', '6', '1', '9', '9', '6',\n",
       "        '0', '3', '7', '2', '8', '2', '9', '4', '4', '6', '4', '9', '7',\n",
       "        '0', '9', '2', '9', '5', '1', '5', '9', '1', '2', '3', '2', '3',\n",
       "        '5', '9', '1', '7', '6', '2', '8', '2', '2', '5', '0', '7', '4',\n",
       "        '9', '7', '8', '3', '2', '1', '1', '8', '3', '6', '1', '0', '3',\n",
       "        '1', '0', '0', '1', '7', '2', '7', '3', '0', '4', '6', '5', '2',\n",
       "        '6', '4', '7', '1', '8', '9', '9', '3', '0', '7', '1', '0', '2',\n",
       "        '0', '3', '5', '4', '6', '5', '8', '6', '3', '7', '5', '8', '0',\n",
       "        '9', '1', '0', '3', '1', '2', '2', '3', '3', '6', '4', '7', '5',\n",
       "        '0', '6', '2', '7', '9', '8', '5', '9', '2', '1', '1', '4', '4',\n",
       "        '5', '6', '4', '1', '2', '5', '3', '9', '3', '9', '0', '5', '9',\n",
       "        '6', '5', '7', '4', '1', '3', '4', '0', '4', '8', '0', '4', '3',\n",
       "        '6', '8', '7', '6', '0', '9', '7', '5', '7', '2', '1', '1', '6',\n",
       "        '8', '9', '4', '1', '5', '2', '2', '9', '0', '3', '9', '6', '7',\n",
       "        '2', '0', '3', '5', '4', '3', '6', '5', '8', '9', '5', '4', '7',\n",
       "        '4', '2', '7', '3', '4', '8', '9', '1', '9', '2', '8', '7', '9',\n",
       "        '1', '8', '7', '4', '1', '3', '1', '1', '0', '2', '3', '9', '4',\n",
       "        '9', '2', '1', '6', '8', '4', '7', '7', '4', '4', '9', '2', '5',\n",
       "        '7', '2', '4', '4', '2', '1', '9', '7', '2', '8', '7', '6', '9',\n",
       "        '2', '2', '3', '8', '1', '6', '5', '1', '1', '0', '2', '6', '4',\n",
       "        '5', '8', '3', '1', '5', '1', '9', '2', '7', '4', '4', '4', '8',\n",
       "        '1', '5', '8', '9', '5', '6', '7', '9', '9', '3', '7', '0', '9',\n",
       "        '0', '6', '6', '2', '3', '9', '0', '7', '5', '4', '8', '0', '9',\n",
       "        '4', '1', '2', '8', '7', '1', '2', '6', '1', '0', '3', '0', '1',\n",
       "        '1', '8', '2', '0', '3', '9', '4', '0', '5', '0', '6', '1', '7',\n",
       "        '7', '8', '1', '9', '2', '0', '5', '1', '2', '2', '7', '3', '5',\n",
       "        '4', '9', '7', '1', '8', '3', '9', '6', '0', '3', '1', '1', '2',\n",
       "        '6', '3', '5', '7', '6', '8', '3', '9', '5', '8', '5', '7', '6',\n",
       "        '1', '1', '3', '1', '7', '5', '5', '5', '2', '5', '8', '7', '0',\n",
       "        '9', '7', '7', '5', '0', '9', '0', '0', '8', '9', '2', '4', '8',\n",
       "        '1', '6', '1', '6', '5', '1', '8', '3', '4', '0', '5', '5', '8',\n",
       "        '3', '6', '2', '3', '9', '2', '1', '1', '5', '2', '1', '3', '2',\n",
       "        '8', '7', '3', '7', '2', '4', '6', '9', '7', '2', '4', '2', '8',\n",
       "        '1', '1', '3', '8', '4', '0', '6', '5', '9', '3', '0', '9', '2',\n",
       "        '4', '7', '1', '2', '9', '4', '2', '6', '1', '8', '9', '0', '6',\n",
       "        '6', '7', '9', '9', '8', '0', '1', '4', '4', '6', '7', '1', '5',\n",
       "        '7', '0', '3', '5', '8', '4', '7', '1', '2', '5', '9', '5', '6',\n",
       "        '7', '5', '9', '8', '8', '3', '6', '9', '7', '0', '7', '5', '7',\n",
       "        '1', '1', '0', '7', '9', '2', '3', '7', '3', '2', '4', '1', '6',\n",
       "        '2', '7', '5', '5', '7', '4', '0', '2', '6', '3', '6', '4', '0',\n",
       "        '4', '2', '6', '0', '0', '0', '0', '3', '1', '6', '2', '2', '3',\n",
       "        '1', '4', '1', '5', '4', '6', '4', '7', '2', '8', '7', '9', '2',\n",
       "        '0', '5', '1', '4', '2', '8', '3', '2', '4', '1', '5', '4', '6',\n",
       "        '0', '7', '9', '8', '4', '9', '8', '0', '1', '1', '0', '2', '2',\n",
       "        '3', '2', '4', '4', '5', '8', '6', '5', '7', '7', '8', '8', '9',\n",
       "        '7', '4', '7', '3', '2', '0', '8', '6', '8', '6', '1', '6', '8',\n",
       "        '9', '4', '0', '9', '0', '4', '1', '5', '4', '7', '5', '3', '7',\n",
       "        '4', '9', '8', '5', '8', '6', '3', '8', '6', '9', '9', '1', '8',\n",
       "        '3', '5', '8', '6', '5', '9', '7', '2', '5', '0', '8', '5', '1',\n",
       "        '1', '0', '9', '1', '8', '6', '7', '0', '9', '3', '0', '8', '8',\n",
       "        '9', '6', '7', '8', '4', '7', '5', '9', '2', '6', '7', '4', '5',\n",
       "        '9', '2', '3', '1', '6', '3', '9', '2', '2', '5', '6', '8', '0',\n",
       "        '7', '7', '1', '9', '8', '7', '0', '9', '9', '4', '6', '2', '8',\n",
       "        '5', '1', '4', '1', '5', '5', '1', '7', '3', '6', '4', '3', '2',\n",
       "        '5', '6', '4', '4', '0', '4', '4', '6', '7', '2', '4', '3', '3',\n",
       "        '8', '0', '0', '3', '2', '2', '9', '8', '2', '3', '7', '0', '1',\n",
       "        '1', '0', '2', '3', '3', '8', '4', '3', '5', '7', '6', '4', '7',\n",
       "        '7', '8', '5', '9', '7', '0', '3', '1', '6', '2', '4', '3', '4',\n",
       "        '4', '7', '5', '9', '6', '9', '0', '7', '1', '4', '2', '7', '3',\n",
       "        '6', '7', '5', '8', '4', '5', '5', '2', '7', '1', '1', '5', '6',\n",
       "        '8', '5', '8', '4', '0', '7', '9', '9', '2', '9', '7', '7', '8',\n",
       "        '7', '4', '2', '6', '9', '1', '7', '0', '6', '4', '2', '5', '7',\n",
       "        '0', '7', '1', '0', '3', '7', '6', '5', '0', '6', '1', '5', '1',\n",
       "        '7', '8', '5', '0', '3', '4', '7', '7', '5', '7', '8', '6', '9',\n",
       "        '3', '8', '6', '1', '0', '9', '7', '1', '3', '0', '5', '6', '4',\n",
       "        '4', '2', '4', '4', '3', '1', '7', '7', '6', '0', '3', '6'],\n",
       "       dtype=object))"
      ]
     },
     "execution_count": 4,
     "metadata": {},
     "output_type": "execute_result"
    }
   ],
   "source": [
    "X, y"
   ]
  },
  {
   "cell_type": "markdown",
   "metadata": {},
   "source": [
    "### Onehot Encode"
   ]
  },
  {
   "cell_type": "code",
   "execution_count": 5,
   "metadata": {},
   "outputs": [],
   "source": [
    "from sklearn.preprocessing import OneHotEncoder\n",
    "\n",
    "def one_hot_encode(X):\n",
    "    encoder = OneHotEncoder(sparse_output=False)\n",
    "    if X.ndim == 1:\n",
    "        X = X.reshape(-1, 1)\n",
    "    one_hot_encoded = encoder.fit_transform(X)\n",
    "    return one_hot_encoded"
   ]
  },
  {
   "cell_type": "code",
   "execution_count": 6,
   "metadata": {},
   "outputs": [
    {
     "name": "stdout",
     "output_type": "stream",
     "text": [
      "[[0. 0. 0. ... 0. 0. 0.]\n",
      " [1. 0. 0. ... 0. 0. 0.]\n",
      " [0. 0. 0. ... 0. 0. 0.]\n",
      " ...\n",
      " [1. 0. 0. ... 0. 0. 0.]\n",
      " [0. 0. 0. ... 0. 0. 0.]\n",
      " [0. 0. 0. ... 0. 0. 0.]]\n"
     ]
    }
   ],
   "source": [
    "y_encoded = one_hot_encode(y)\n",
    "print(y_encoded)"
   ]
  },
  {
   "cell_type": "markdown",
   "metadata": {},
   "source": [
    "## Import Model"
   ]
  },
  {
   "cell_type": "code",
   "execution_count": 7,
   "metadata": {},
   "outputs": [],
   "source": [
    "import sys\n",
    "import os\n",
    "\n",
    "# Get the absolute path of the src directory\n",
    "sys.path.append(os.path.abspath('../')) \n",
    "\n",
    "from model.ffnn import FFNN\n",
    "from graph.visualize import Visualizer"
   ]
  },
  {
   "cell_type": "markdown",
   "metadata": {},
   "source": [
    "### Testing Effect of Regularization\n",
    "\n",
    "All model uses the same settings."
   ]
  },
  {
   "cell_type": "markdown",
   "metadata": {},
   "source": [
    "### 1) No Regularizationn"
   ]
  },
  {
   "cell_type": "code",
   "execution_count": 8,
   "metadata": {},
   "outputs": [
    {
     "data": {
      "text/plain": [
       "Feed Forward Neural Network\n",
       "> Layers: [784, 8, 4, 10]\n",
       "> MLP of 3 Layers [\n",
       "\tLayer(label=Hidden-Layer-1, neurons=[\n",
       "\tNeuron(nin=784, activation=sigmoid, label=Hidden-Layer-1_N1)\n",
       "\tNeuron(nin=784, activation=sigmoid, label=Hidden-Layer-1_N2)\n",
       "\tNeuron(nin=784, activation=sigmoid, label=Hidden-Layer-1_N3)\n",
       "\tNeuron(nin=784, activation=sigmoid, label=Hidden-Layer-1_N4)\n",
       "\tNeuron(nin=784, activation=sigmoid, label=Hidden-Layer-1_N5)\n",
       "\tNeuron(nin=784, activation=sigmoid, label=Hidden-Layer-1_N6)\n",
       "\tNeuron(nin=784, activation=sigmoid, label=Hidden-Layer-1_N7)\n",
       "\tNeuron(nin=784, activation=sigmoid, label=Hidden-Layer-1_N8)])\n",
       "\tLayer(label=Hidden-Layer-2, neurons=[\n",
       "\tNeuron(nin=8, activation=tanh, label=Hidden-Layer-2_N1)\n",
       "\tNeuron(nin=8, activation=tanh, label=Hidden-Layer-2_N2)\n",
       "\tNeuron(nin=8, activation=tanh, label=Hidden-Layer-2_N3)\n",
       "\tNeuron(nin=8, activation=tanh, label=Hidden-Layer-2_N4)])\n",
       "\tLayer(label=Output-Layer, neurons=[\n",
       "\tNeuron(nin=4, activation=relu, label=Output-Layer_N1)\n",
       "\tNeuron(nin=4, activation=relu, label=Output-Layer_N2)\n",
       "\tNeuron(nin=4, activation=relu, label=Output-Layer_N3)\n",
       "\tNeuron(nin=4, activation=relu, label=Output-Layer_N4)\n",
       "\tNeuron(nin=4, activation=relu, label=Output-Layer_N5)\n",
       "\tNeuron(nin=4, activation=relu, label=Output-Layer_N6)\n",
       "\tNeuron(nin=4, activation=relu, label=Output-Layer_N7)\n",
       "\tNeuron(nin=4, activation=relu, label=Output-Layer_N8)\n",
       "\tNeuron(nin=4, activation=relu, label=Output-Layer_N9)\n",
       "\tNeuron(nin=4, activation=relu, label=Output-Layer_N10)])]"
      ]
     },
     "execution_count": 8,
     "metadata": {},
     "output_type": "execute_result"
    }
   ],
   "source": [
    "ffnn1 = FFNN([784, 8, 4, 10], loss=\"mse\", active=[\"sigmoid\", \"tanh\", \"relu\"], seed=69, weight=\"normal\", mean=0.5, variance=1, regularization=\"none\")\n",
    "ffnn1"
   ]
  },
  {
   "cell_type": "code",
   "execution_count": 9,
   "metadata": {},
   "outputs": [
    {
     "name": "stderr",
     "output_type": "stream",
     "text": [
      "  0%|          | 0/5 [00:00<?, ?it/s]"
     ]
    },
    {
     "name": "stdout",
     "output_type": "stream",
     "text": [
      "Starting Epoch 0\n"
     ]
    },
    {
     "name": "stderr",
     "output_type": "stream",
     "text": [
      " 20%|██        | 1/5 [02:29<09:59, 149.80s/it]"
     ]
    },
    {
     "name": "stdout",
     "output_type": "stream",
     "text": [
      "Training Loss: 2.896870707589629\n",
      "Validation Loss: 2.8410173636481075\n",
      "\n",
      "Starting Epoch 1\n"
     ]
    },
    {
     "name": "stderr",
     "output_type": "stream",
     "text": [
      " 40%|████      | 2/5 [05:36<08:34, 171.48s/it]"
     ]
    },
    {
     "name": "stdout",
     "output_type": "stream",
     "text": [
      "Training Loss: 2.8408548638912294\n",
      "Validation Loss: 2.786277108341785\n",
      "\n",
      "Starting Epoch 2\n"
     ]
    },
    {
     "name": "stderr",
     "output_type": "stream",
     "text": [
      " 60%|██████    | 3/5 [08:55<06:08, 184.28s/it]"
     ]
    },
    {
     "name": "stdout",
     "output_type": "stream",
     "text": [
      "Training Loss: 2.7859537338232467\n",
      "Validation Loss: 2.7326277751524337\n",
      "\n",
      "Starting Epoch 3\n"
     ]
    },
    {
     "name": "stderr",
     "output_type": "stream",
     "text": [
      " 80%|████████  | 4/5 [12:05<03:06, 186.29s/it]"
     ]
    },
    {
     "name": "stdout",
     "output_type": "stream",
     "text": [
      "Training Loss: 2.732145134617462\n",
      "Validation Loss: 2.680047638835742\n",
      "\n",
      "Starting Epoch 4\n"
     ]
    },
    {
     "name": "stderr",
     "output_type": "stream",
     "text": [
      "100%|██████████| 5/5 [15:26<00:00, 185.28s/it]"
     ]
    },
    {
     "name": "stdout",
     "output_type": "stream",
     "text": [
      "Training Loss: 2.6794073249420394\n",
      "Validation Loss: 2.6285154066382987\n",
      "\n"
     ]
    },
    {
     "name": "stderr",
     "output_type": "stream",
     "text": [
      "\n"
     ]
    }
   ],
   "source": [
    "loss1, loss1_history = ffnn1.training(X, y_encoded, 20, 0.01, 5, 1, 0.8)"
   ]
  },
  {
   "cell_type": "code",
   "execution_count": 10,
   "metadata": {},
   "outputs": [
    {
     "data": {
      "image/png": "[encoded data removed]",
      "text/plain": [
       "<Figure size 1000x500 with 1 Axes>"
      ]
     },
     "metadata": {},
     "output_type": "display_data"
    },
    {
     "data": {
      "image/png": "[encoded data removed]",
      "text/plain": [
       "<Figure size 1000x500 with 1 Axes>"
      ]
     },
     "metadata": {},
     "output_type": "display_data"
    }
   ],
   "source": [
    "Visualizer.plot_loss_history(loss1_history)"
   ]
  },
  {
   "cell_type": "markdown",
   "metadata": {},
   "source": [
    "### 2) Regularization L1"
   ]
  },
  {
   "cell_type": "code",
   "execution_count": 11,
   "metadata": {},
   "outputs": [
    {
     "data": {
      "text/plain": [
       "Feed Forward Neural Network\n",
       "> Layers: [784, 8, 4, 10]\n",
       "> MLP of 3 Layers [\n",
       "\tLayer(label=Hidden-Layer-1, neurons=[\n",
       "\tNeuron(nin=784, activation=sigmoid, label=Hidden-Layer-1_N1)\n",
       "\tNeuron(nin=784, activation=sigmoid, label=Hidden-Layer-1_N2)\n",
       "\tNeuron(nin=784, activation=sigmoid, label=Hidden-Layer-1_N3)\n",
       "\tNeuron(nin=784, activation=sigmoid, label=Hidden-Layer-1_N4)\n",
       "\tNeuron(nin=784, activation=sigmoid, label=Hidden-Layer-1_N5)\n",
       "\tNeuron(nin=784, activation=sigmoid, label=Hidden-Layer-1_N6)\n",
       "\tNeuron(nin=784, activation=sigmoid, label=Hidden-Layer-1_N7)\n",
       "\tNeuron(nin=784, activation=sigmoid, label=Hidden-Layer-1_N8)])\n",
       "\tLayer(label=Hidden-Layer-2, neurons=[\n",
       "\tNeuron(nin=8, activation=tanh, label=Hidden-Layer-2_N1)\n",
       "\tNeuron(nin=8, activation=tanh, label=Hidden-Layer-2_N2)\n",
       "\tNeuron(nin=8, activation=tanh, label=Hidden-Layer-2_N3)\n",
       "\tNeuron(nin=8, activation=tanh, label=Hidden-Layer-2_N4)])\n",
       "\tLayer(label=Output-Layer, neurons=[\n",
       "\tNeuron(nin=4, activation=relu, label=Output-Layer_N1)\n",
       "\tNeuron(nin=4, activation=relu, label=Output-Layer_N2)\n",
       "\tNeuron(nin=4, activation=relu, label=Output-Layer_N3)\n",
       "\tNeuron(nin=4, activation=relu, label=Output-Layer_N4)\n",
       "\tNeuron(nin=4, activation=relu, label=Output-Layer_N5)\n",
       "\tNeuron(nin=4, activation=relu, label=Output-Layer_N6)\n",
       "\tNeuron(nin=4, activation=relu, label=Output-Layer_N7)\n",
       "\tNeuron(nin=4, activation=relu, label=Output-Layer_N8)\n",
       "\tNeuron(nin=4, activation=relu, label=Output-Layer_N9)\n",
       "\tNeuron(nin=4, activation=relu, label=Output-Layer_N10)])]"
      ]
     },
     "execution_count": 11,
     "metadata": {},
     "output_type": "execute_result"
    }
   ],
   "source": [
    "ffnn2 = FFNN([784, 8, 4, 10], loss=\"mse\", active=[\"sigmoid\", \"tanh\", \"relu\"], seed=69, weight=\"normal\", mean=0.5, variance=1, regularization=\"l1\")\n",
    "ffnn2"
   ]
  },
  {
   "cell_type": "code",
   "execution_count": 12,
   "metadata": {},
   "outputs": [
    {
     "name": "stderr",
     "output_type": "stream",
     "text": [
      "  0%|          | 0/5 [00:00<?, ?it/s]"
     ]
    },
    {
     "name": "stdout",
     "output_type": "stream",
     "text": [
      "Starting Epoch 0\n"
     ]
    },
    {
     "name": "stderr",
     "output_type": "stream",
     "text": [
      " 20%|██        | 1/5 [03:02<12:11, 182.92s/it]"
     ]
    },
    {
     "name": "stdout",
     "output_type": "stream",
     "text": [
      "Training Loss: 291.046939861512\n",
      "Validation Loss: 290.9927618623744\n",
      "\n",
      "Starting Epoch 1\n"
     ]
    },
    {
     "name": "stderr",
     "output_type": "stream",
     "text": [
      " 40%|████      | 2/5 [06:18<09:31, 190.56s/it]"
     ]
    },
    {
     "name": "stdout",
     "output_type": "stream",
     "text": [
      "Training Loss: 290.9925993626175\n",
      "Validation Loss: 290.9396801985735\n",
      "\n",
      "Starting Epoch 2\n"
     ]
    },
    {
     "name": "stderr",
     "output_type": "stream",
     "text": [
      " 60%|██████    | 3/5 [09:38<06:29, 194.94s/it]"
     ]
    },
    {
     "name": "stdout",
     "output_type": "stream",
     "text": [
      "Training Loss: 290.939356824055\n",
      "Validation Loss: 290.88767287112205\n",
      "\n",
      "Starting Epoch 3\n"
     ]
    },
    {
     "name": "stderr",
     "output_type": "stream",
     "text": [
      " 80%|████████  | 4/5 [13:19<03:24, 204.89s/it]"
     ]
    },
    {
     "name": "stdout",
     "output_type": "stream",
     "text": [
      "Training Loss: 290.88719023058707\n",
      "Validation Loss: 290.8367183206306\n",
      "\n",
      "Starting Epoch 4\n"
     ]
    },
    {
     "name": "stderr",
     "output_type": "stream",
     "text": [
      "100%|██████████| 5/5 [16:49<00:00, 201.86s/it]"
     ]
    },
    {
     "name": "stdout",
     "output_type": "stream",
     "text": [
      "Training Loss: 290.8360780067369\n",
      "Validation Loss: 290.78679541854245\n",
      "\n"
     ]
    },
    {
     "name": "stderr",
     "output_type": "stream",
     "text": [
      "\n"
     ]
    }
   ],
   "source": [
    "loss2, loss2_history = ffnn2.training(X, y_encoded, 20, 0.01, 5, 1, 0.8)"
   ]
  },
  {
   "cell_type": "code",
   "execution_count": 13,
   "metadata": {},
   "outputs": [
    {
     "data": {
      "image/png": "[encoded data removed]",
      "text/plain": [
       "<Figure size 1000x500 with 1 Axes>"
      ]
     },
     "metadata": {},
     "output_type": "display_data"
    },
    {
     "data": {
      "image/png": "[encoded data removed]",
      "text/plain": [
       "<Figure size 1000x500 with 1 Axes>"
      ]
     },
     "metadata": {},
     "output_type": "display_data"
    }
   ],
   "source": [
    "Visualizer.plot_loss_history(loss2_history)"
   ]
  },
  {
   "cell_type": "markdown",
   "metadata": {},
   "source": [
    "### 3) Regularization L2"
   ]
  },
  {
   "cell_type": "code",
   "execution_count": null,
   "metadata": {},
   "outputs": [
    {
     "data": {
      "text/plain": [
       "Feed Forward Neural Network\n",
       "> Layers: [784, 8, 4, 10]\n",
       "> MLP of 3 Layers [\n",
       "\tLayer(label=Hidden-Layer-1, neurons=[\n",
       "\tNeuron(nin=784, activation=sigmoid, label=Hidden-Layer-1_N1)\n",
       "\tNeuron(nin=784, activation=sigmoid, label=Hidden-Layer-1_N2)\n",
       "\tNeuron(nin=784, activation=sigmoid, label=Hidden-Layer-1_N3)\n",
       "\tNeuron(nin=784, activation=sigmoid, label=Hidden-Layer-1_N4)\n",
       "\tNeuron(nin=784, activation=sigmoid, label=Hidden-Layer-1_N5)\n",
       "\tNeuron(nin=784, activation=sigmoid, label=Hidden-Layer-1_N6)\n",
       "\tNeuron(nin=784, activation=sigmoid, label=Hidden-Layer-1_N7)\n",
       "\tNeuron(nin=784, activation=sigmoid, label=Hidden-Layer-1_N8)])\n",
       "\tLayer(label=Hidden-Layer-2, neurons=[\n",
       "\tNeuron(nin=8, activation=tanh, label=Hidden-Layer-2_N1)\n",
       "\tNeuron(nin=8, activation=tanh, label=Hidden-Layer-2_N2)\n",
       "\tNeuron(nin=8, activation=tanh, label=Hidden-Layer-2_N3)\n",
       "\tNeuron(nin=8, activation=tanh, label=Hidden-Layer-2_N4)])\n",
       "\tLayer(label=Output-Layer, neurons=[\n",
       "\tNeuron(nin=4, activation=relu, label=Output-Layer_N1)\n",
       "\tNeuron(nin=4, activation=relu, label=Output-Layer_N2)\n",
       "\tNeuron(nin=4, activation=relu, label=Output-Layer_N3)\n",
       "\tNeuron(nin=4, activation=relu, label=Output-Layer_N4)\n",
       "\tNeuron(nin=4, activation=relu, label=Output-Layer_N5)\n",
       "\tNeuron(nin=4, activation=relu, label=Output-Layer_N6)\n",
       "\tNeuron(nin=4, activation=relu, label=Output-Layer_N7)\n",
       "\tNeuron(nin=4, activation=relu, label=Output-Layer_N8)\n",
       "\tNeuron(nin=4, activation=relu, label=Output-Layer_N9)\n",
       "\tNeuron(nin=4, activation=relu, label=Output-Layer_N10)])]"
      ]
     },
     "execution_count": 14,
     "metadata": {},
     "output_type": "execute_result"
    }
   ],
   "source": [
    "ffnn3 = FFNN([784, 8, 4, 10], loss=\"mse\", active=[\"sigmoid\", \"tanh\", \"relu\"], seed=69, weight=\"normal\", mean=0.5, variance=1, regularization=\"l2\")\n",
    "ffnn3"
   ]
  },
  {
   "cell_type": "code",
   "execution_count": null,
   "metadata": {},
   "outputs": [],
   "source": [
    "loss3, loss3_history = ffnn3.training(X, y_encoded, 20, 0.01, 5, 1, 0.8)"
   ]
  },
  {
   "cell_type": "markdown",
   "metadata": {},
   "source": [
    "### Compared all results"
   ]
  },
  {
   "cell_type": "code",
   "execution_count": null,
   "metadata": {},
   "outputs": [],
   "source": [
    "Visualizer.compare_loss_histories([loss1_history, loss2_history, loss3_history])"
   ]
  },
  {
   "cell_type": "markdown",
   "metadata": {},
   "source": [
    "# Comparing The Weight Distribution"
   ]
  },
  {
   "cell_type": "code",
   "execution_count": null,
   "metadata": {},
   "outputs": [],
   "source": [
    "ffnn1.plot_weight_distribution([0,1,2])"
   ]
  },
  {
   "cell_type": "code",
   "execution_count": null,
   "metadata": {},
   "outputs": [],
   "source": [
    "ffnn2.plot_weight_distribution([0,1,2])"
   ]
  },
  {
   "cell_type": "code",
   "execution_count": null,
   "metadata": {},
   "outputs": [],
   "source": [
    "ffnn3.plot_weight_distribution([0,1,2])"
   ]
  },
  {
   "cell_type": "markdown",
   "metadata": {},
   "source": [
    "# Comparing The Gradient Distribution"
   ]
  },
  {
   "cell_type": "code",
   "execution_count": null,
   "metadata": {},
   "outputs": [],
   "source": [
    "ffnn1.plot_gradient_distribution([0,1,2])"
   ]
  },
  {
   "cell_type": "code",
   "execution_count": null,
   "metadata": {},
   "outputs": [],
   "source": [
    "ffnn2.plot_gradient_distribution([0,1,2])"
   ]
  },
  {
   "cell_type": "code",
   "execution_count": null,
   "metadata": {},
   "outputs": [],
   "source": [
    "ffnn3.plot_gradient_distribution([0,1,2])"
   ]
  },
  {
   "cell_type": "code",
   "execution_count": null,
   "metadata": {},
   "outputs": [],
   "source": []
  }
 ],
 "metadata": {
  "kernelspec": {
   "display_name": ".venv",
   "language": "python",
   "name": "python3"
  },
  "language_info": {
   "codemirror_mode": {
    "name": "ipython",
    "version": 3
   },
   "file_extension": ".py",
   "mimetype": "text/x-python",
   "name": "python",
   "nbconvert_exporter": "python",
   "pygments_lexer": "ipython3",
   "version": "3.13.2"
  }
 },
 "nbformat": 4,
 "nbformat_minor": 2
}
